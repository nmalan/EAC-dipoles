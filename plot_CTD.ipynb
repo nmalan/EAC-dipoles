{
 "cells": [
  {
   "cell_type": "code",
   "execution_count": 1,
   "metadata": {},
   "outputs": [
    {
     "name": "stdout",
     "output_type": "stream",
     "text": [
      "Populating the interactive namespace from numpy and matplotlib\n"
     ]
    }
   ],
   "source": [
    "import xarray as xr\n",
    "import datetime\n",
    "import cartopy.crs as ccrs\n",
    "import cartopy.feature as cfeature\n",
    "import matplotlib.pyplot as plt\n",
    "from cartopy.mpl.gridliner import LONGITUDE_FORMATTER, LATITUDE_FORMATTER\n",
    "from netCDF4 import Dataset\n",
    "%pylab inline"
   ]
  },
  {
   "cell_type": "code",
   "execution_count": 8,
   "metadata": {},
   "outputs": [
    {
     "data": {
      "text/plain": [
       "<xarray.Dataset>\n",
       "Dimensions:                  (latitude: 37, longitude: 37, pressure: 2035, time: 37)\n",
       "Coordinates:\n",
       "  * latitude                 (latitude) float64 -35.71 -35.64 ... -27.1 -27.0\n",
       "  * pressure                 (pressure) float64 2.321 2.359 ... 2e+03 2.001e+03\n",
       "  * longitude                (longitude) float64 151.6 151.6 ... 156.0 156.1\n",
       "  * time                     (time) datetime64[ns] 2017-08-31T23:07:48.568996352 ... 2017-09-15T22:50:50.572999680\n",
       "Data variables:\n",
       "    woce_date                (time) float64 dask.array<shape=(37,), chunksize=(1,)>\n",
       "    woce_time                (time) float64 dask.array<shape=(37,), chunksize=(1,)>\n",
       "    temperature              (longitude, latitude, pressure, time) float64 dask.array<shape=(37, 37, 2035, 37), chunksize=(37, 37, 2035, 1)>\n",
       "    temperatureFlag          (longitude, latitude, pressure, time) float32 dask.array<shape=(37, 37, 2035, 37), chunksize=(37, 37, 2035, 1)>\n",
       "    conductivity             (longitude, latitude, pressure, time) float64 dask.array<shape=(37, 37, 2035, 37), chunksize=(37, 37, 2035, 1)>\n",
       "    conductivityFlag         (longitude, latitude, pressure, time) float32 dask.array<shape=(37, 37, 2035, 37), chunksize=(37, 37, 2035, 1)>\n",
       "    salinity                 (longitude, latitude, pressure, time) float64 dask.array<shape=(37, 37, 2035, 37), chunksize=(37, 37, 2035, 1)>\n",
       "    salinityFlag             (longitude, latitude, pressure, time) float32 dask.array<shape=(37, 37, 2035, 37), chunksize=(37, 37, 2035, 1)>\n",
       "    temperature_2            (longitude, latitude, pressure, time) float64 dask.array<shape=(37, 37, 2035, 37), chunksize=(37, 37, 2035, 1)>\n",
       "    temperature_2Flag        (longitude, latitude, pressure, time) float32 dask.array<shape=(37, 37, 2035, 37), chunksize=(37, 37, 2035, 1)>\n",
       "    conductivity_2           (longitude, latitude, pressure, time) float64 dask.array<shape=(37, 37, 2035, 37), chunksize=(37, 37, 2035, 1)>\n",
       "    conductivity_2Flag       (longitude, latitude, pressure, time) float32 dask.array<shape=(37, 37, 2035, 37), chunksize=(37, 37, 2035, 1)>\n",
       "    salinity_2               (longitude, latitude, pressure, time) float64 dask.array<shape=(37, 37, 2035, 37), chunksize=(37, 37, 2035, 1)>\n",
       "    salinity_2Flag           (longitude, latitude, pressure, time) float32 dask.array<shape=(37, 37, 2035, 37), chunksize=(37, 37, 2035, 1)>\n",
       "    oxygen                   (longitude, latitude, pressure, time) float64 dask.array<shape=(37, 37, 2035, 37), chunksize=(37, 37, 2035, 1)>\n",
       "    oxygenFlag               (longitude, latitude, pressure, time) float32 dask.array<shape=(37, 37, 2035, 37), chunksize=(37, 37, 2035, 1)>\n",
       "    oxygen_2                 (longitude, latitude, pressure, time) float64 dask.array<shape=(37, 37, 2035, 37), chunksize=(37, 37, 2035, 1)>\n",
       "    oxygen_2Flag             (longitude, latitude, pressure, time) float32 dask.array<shape=(37, 37, 2035, 37), chunksize=(37, 37, 2035, 1)>\n",
       "    transmissometer          (longitude, latitude, pressure, time) float64 dask.array<shape=(37, 37, 2035, 37), chunksize=(37, 37, 2035, 1)>\n",
       "    transmissometerFlag      (longitude, latitude, pressure, time) float32 dask.array<shape=(37, 37, 2035, 37), chunksize=(37, 37, 2035, 1)>\n",
       "    fluorometer              (longitude, latitude, pressure, time) float64 dask.array<shape=(37, 37, 2035, 37), chunksize=(37, 37, 2035, 1)>\n",
       "    fluorometerFlag          (longitude, latitude, pressure, time) float32 dask.array<shape=(37, 37, 2035, 37), chunksize=(37, 37, 2035, 1)>\n",
       "    altimeter                (longitude, latitude, pressure, time) float64 dask.array<shape=(37, 37, 2035, 37), chunksize=(37, 37, 2035, 1)>\n",
       "    altimeterFlag            (longitude, latitude, pressure, time) float32 dask.array<shape=(37, 37, 2035, 37), chunksize=(37, 37, 2035, 1)>\n",
       "    par                      (longitude, latitude, pressure, time) float64 dask.array<shape=(37, 37, 2035, 37), chunksize=(37, 37, 2035, 1)>\n",
       "    parFlag                  (longitude, latitude, pressure, time) float32 dask.array<shape=(37, 37, 2035, 37), chunksize=(37, 37, 2035, 1)>\n",
       "    pressureTemperature      (longitude, latitude, pressure, time) float64 dask.array<shape=(37, 37, 2035, 37), chunksize=(37, 37, 2035, 1)>\n",
       "    pressureTemperatureFlag  (longitude, latitude, pressure, time) float32 dask.array<shape=(37, 37, 2035, 37), chunksize=(37, 37, 2035, 1)>\n",
       "Attributes:\n",
       "    WOCE_Version:    3.0\n",
       "    Conventions:     COARDS/WOCE/CF-1.5\n",
       "    History:         Created on 11-Apr-2018 13:33:10\n",
       "    Organisation:    CSIRO Marine Research\n",
       "    Survey:          in2017_v04\n",
       "    Vessel:          Investigator\n",
       "    Deployment:      1\n",
       "    DeploymentType:  Standard CTD hydrocast\n",
       "    StartTime:       31-Aug-2017 23:07:48\n",
       "    BottomTime:      31-Aug-2017 23:30:23\n",
       "    EndTime:         31-Aug-2017 23:51:22\n",
       "    WaterDepth:      4799.5498\n",
       "    MinAltitude:     Unknown\n",
       "    PressureBin:     1"
      ]
     },
     "execution_count": 8,
     "metadata": {},
     "output_type": "execute_result"
    }
   ],
   "source": [
    "ctd = xr.open_mfdataset('/home/z3526974/Work/data/dipole_work/in2017_v04CtdAvg_nc/*.nc',concat_dim='time')\n",
    "ctd"
   ]
  },
  {
   "cell_type": "code",
   "execution_count": 11,
   "metadata": {},
   "outputs": [
    {
     "data": {
      "text/plain": [
       "<matplotlib.collections.PathCollection at 0x7f68104d9090>"
      ]
     },
     "execution_count": 11,
     "metadata": {},
     "output_type": "execute_result"
    },
    {
     "data": {
      "image/png": "[encoded data removed]",
      "text/plain": [
       "<Figure size 432x288 with 1 Axes>"
      ]
     },
     "metadata": {
      "needs_background": "light"
     },
     "output_type": "display_data"
    }
   ],
   "source": [
    "plt.scatter(ctd.longitude,ctd.latitude)"
   ]
  },
  {
   "cell_type": "code",
   "execution_count": 12,
   "metadata": {},
   "outputs": [
    {
     "data": {
      "text/plain": [
       "<xarray.Dataset>\n",
       "Dimensions:                  (latitude: 37, longitude: 37, pressure: 2035, time: 1)\n",
       "Coordinates:\n",
       "  * latitude                 (latitude) float64 -35.71 -35.64 ... -27.1 -27.0\n",
       "  * pressure                 (pressure) float64 2.321 2.359 ... 2e+03 2.001e+03\n",
       "  * longitude                (longitude) float64 151.6 151.6 ... 156.0 156.1\n",
       "  * time                     (time) datetime64[ns] 2017-09-12T11:52:49.381997568\n",
       "Data variables:\n",
       "    woce_date                (time) float64 dask.array<shape=(1,), chunksize=(1,)>\n",
       "    woce_time                (time) float64 dask.array<shape=(1,), chunksize=(1,)>\n",
       "    temperature              (longitude, latitude, pressure, time) float64 dask.array<shape=(37, 37, 2035, 1), chunksize=(37, 37, 2035, 1)>\n",
       "    temperatureFlag          (longitude, latitude, pressure, time) float32 dask.array<shape=(37, 37, 2035, 1), chunksize=(37, 37, 2035, 1)>\n",
       "    conductivity             (longitude, latitude, pressure, time) float64 dask.array<shape=(37, 37, 2035, 1), chunksize=(37, 37, 2035, 1)>\n",
       "    conductivityFlag         (longitude, latitude, pressure, time) float32 dask.array<shape=(37, 37, 2035, 1), chunksize=(37, 37, 2035, 1)>\n",
       "    salinity                 (longitude, latitude, pressure, time) float64 dask.array<shape=(37, 37, 2035, 1), chunksize=(37, 37, 2035, 1)>\n",
       "    salinityFlag             (longitude, latitude, pressure, time) float32 dask.array<shape=(37, 37, 2035, 1), chunksize=(37, 37, 2035, 1)>\n",
       "    temperature_2            (longitude, latitude, pressure, time) float64 dask.array<shape=(37, 37, 2035, 1), chunksize=(37, 37, 2035, 1)>\n",
       "    temperature_2Flag        (longitude, latitude, pressure, time) float32 dask.array<shape=(37, 37, 2035, 1), chunksize=(37, 37, 2035, 1)>\n",
       "    conductivity_2           (longitude, latitude, pressure, time) float64 dask.array<shape=(37, 37, 2035, 1), chunksize=(37, 37, 2035, 1)>\n",
       "    conductivity_2Flag       (longitude, latitude, pressure, time) float32 dask.array<shape=(37, 37, 2035, 1), chunksize=(37, 37, 2035, 1)>\n",
       "    salinity_2               (longitude, latitude, pressure, time) float64 dask.array<shape=(37, 37, 2035, 1), chunksize=(37, 37, 2035, 1)>\n",
       "    salinity_2Flag           (longitude, latitude, pressure, time) float32 dask.array<shape=(37, 37, 2035, 1), chunksize=(37, 37, 2035, 1)>\n",
       "    oxygen                   (longitude, latitude, pressure, time) float64 dask.array<shape=(37, 37, 2035, 1), chunksize=(37, 37, 2035, 1)>\n",
       "    oxygenFlag               (longitude, latitude, pressure, time) float32 dask.array<shape=(37, 37, 2035, 1), chunksize=(37, 37, 2035, 1)>\n",
       "    oxygen_2                 (longitude, latitude, pressure, time) float64 dask.array<shape=(37, 37, 2035, 1), chunksize=(37, 37, 2035, 1)>\n",
       "    oxygen_2Flag             (longitude, latitude, pressure, time) float32 dask.array<shape=(37, 37, 2035, 1), chunksize=(37, 37, 2035, 1)>\n",
       "    transmissometer          (longitude, latitude, pressure, time) float64 dask.array<shape=(37, 37, 2035, 1), chunksize=(37, 37, 2035, 1)>\n",
       "    transmissometerFlag      (longitude, latitude, pressure, time) float32 dask.array<shape=(37, 37, 2035, 1), chunksize=(37, 37, 2035, 1)>\n",
       "    fluorometer              (longitude, latitude, pressure, time) float64 dask.array<shape=(37, 37, 2035, 1), chunksize=(37, 37, 2035, 1)>\n",
       "    fluorometerFlag          (longitude, latitude, pressure, time) float32 dask.array<shape=(37, 37, 2035, 1), chunksize=(37, 37, 2035, 1)>\n",
       "    altimeter                (longitude, latitude, pressure, time) float64 dask.array<shape=(37, 37, 2035, 1), chunksize=(37, 37, 2035, 1)>\n",
       "    altimeterFlag            (longitude, latitude, pressure, time) float32 dask.array<shape=(37, 37, 2035, 1), chunksize=(37, 37, 2035, 1)>\n",
       "    par                      (longitude, latitude, pressure, time) float64 dask.array<shape=(37, 37, 2035, 1), chunksize=(37, 37, 2035, 1)>\n",
       "    parFlag                  (longitude, latitude, pressure, time) float32 dask.array<shape=(37, 37, 2035, 1), chunksize=(37, 37, 2035, 1)>\n",
       "    pressureTemperature      (longitude, latitude, pressure, time) float64 dask.array<shape=(37, 37, 2035, 1), chunksize=(37, 37, 2035, 1)>\n",
       "    pressureTemperatureFlag  (longitude, latitude, pressure, time) float32 dask.array<shape=(37, 37, 2035, 1), chunksize=(37, 37, 2035, 1)>\n",
       "Attributes:\n",
       "    WOCE_Version:    3.0\n",
       "    Conventions:     COARDS/WOCE/CF-1.5\n",
       "    History:         Created on 11-Apr-2018 13:33:10\n",
       "    Organisation:    CSIRO Marine Research\n",
       "    Survey:          in2017_v04\n",
       "    Vessel:          Investigator\n",
       "    Deployment:      1\n",
       "    DeploymentType:  Standard CTD hydrocast\n",
       "    StartTime:       31-Aug-2017 23:07:48\n",
       "    BottomTime:      31-Aug-2017 23:30:23\n",
       "    EndTime:         31-Aug-2017 23:51:22\n",
       "    WaterDepth:      4799.5498\n",
       "    MinAltitude:     Unknown\n",
       "    PressureBin:     1"
      ]
     },
     "execution_count": 12,
     "metadata": {},
     "output_type": "execute_result"
    }
   ],
   "source": [
    "t_slice = slice('2017-09-12','2017-09-12')\n",
    "ctd_t = ctd.sel(time=t_slice)\n",
    "ctd_t"
   ]
  },
  {
   "cell_type": "code",
   "execution_count": 20,
   "metadata": {},
   "outputs": [
    {
     "data": {
      "text/plain": [
       "<matplotlib.collections.PathCollection at 0x7f6810745590>"
      ]
     },
     "execution_count": 20,
     "metadata": {},
     "output_type": "execute_result"
    },
    {
     "data": {
      "image/png": "[encoded data removed]",
      "text/plain": [
       "<Figure size 720x360 with 2 Axes>"
      ]
     },
     "metadata": {
      "needs_background": "light"
     },
     "output_type": "display_data"
    }
   ],
   "source": [
    "plt.figure(figsize=(10, 5))\n",
    "plt.subplot(1,2,1)\n",
    "plt.scatter(ctd.longitude,ctd.latitude)\n",
    "plt.subplot(1,2,2)\n",
    "plt.scatter(ctd_t.longitude,ctd_t.latitude)"
   ]
  },
  {
   "cell_type": "code",
   "execution_count": 17,
   "metadata": {},
   "outputs": [
    {
     "data": {
      "text/plain": [
       "(array([0., 0., 0., 0., 0., 1., 0., 0., 0., 0.]),\n",
       " array([736583.995016, 736584.095016, 736584.195016, 736584.295016,\n",
       "        736584.395016, 736584.495016, 736584.595016, 736584.695016,\n",
       "        736584.795016, 736584.895016, 736584.995016]),\n",
       " <a list of 10 Patch objects>)"
      ]
     },
     "execution_count": 17,
     "metadata": {},
     "output_type": "execute_result"
    },
    {
     "data": {
      "image/png": "[encoded data removed]",
      "text/plain": [
       "<Figure size 720x360 with 2 Axes>"
      ]
     },
     "metadata": {
      "needs_background": "light"
     },
     "output_type": "display_data"
    }
   ],
   "source": [
    "plt.figure(figsize=(10, 5))\n",
    "plt.subplot(1,2,1)\n",
    "ctd.time.plot()\n",
    "\n",
    "plt.subplot(1,2,2)\n",
    "ctd_t.time.plot()"
   ]
  },
  {
   "cell_type": "code",
   "execution_count": 18,
   "metadata": {},
   "outputs": [
    {
     "data": {
      "text/plain": [
       "(1,)"
      ]
     },
     "execution_count": 18,
     "metadata": {},
     "output_type": "execute_result"
    }
   ],
   "source": [
    "ctd_t.time.shape"
   ]
  },
  {
   "cell_type": "code",
   "execution_count": null,
   "metadata": {},
   "outputs": [],
   "source": []
  }
 ],
 "metadata": {
  "kernelspec": {
   "display_name": "Python 2",
   "language": "python",
   "name": "python2"
  },
  "language_info": {
   "codemirror_mode": {
    "name": "ipython",
    "version": 2
   },
   "file_extension": ".py",
   "mimetype": "text/x-python",
   "name": "python",
   "nbconvert_exporter": "python",
   "pygments_lexer": "ipython2",
   "version": "2.7.15"
  },
  "varInspector": {
   "cols": {
    "lenName": 16,
    "lenType": 16,
    "lenVar": 40
   },
   "kernels_config": {
    "python": {
     "delete_cmd_postfix": "",
     "delete_cmd_prefix": "del ",
     "library": "var_list.py",
     "varRefreshCmd": "print(var_dic_list())"
    },
    "r": {
     "delete_cmd_postfix": ") ",
     "delete_cmd_prefix": "rm(",
     "library": "var_list.r",
     "varRefreshCmd": "cat(var_dic_list()) "
    }
   },
   "types_to_exclude": [
    "module",
    "function",
    "builtin_function_or_method",
    "instance",
    "_Feature"
   ],
   "window_display": false
  }
 },
 "nbformat": 4,
 "nbformat_minor": 2
}
